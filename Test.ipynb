{
 "cells": [
  {
   "cell_type": "code",
   "execution_count": null,
   "metadata": {},
   "outputs": [],
   "source": [
    "import os\n",
    "from keras.models import load_model,Model\n",
    "from keras.layers import Lambda,Dense,Input\n",
    "import keras.backend as K\n",
    "import librosa.display\n",
    "import cv2\n",
    "import librosa\n",
    "import matplotlib.pyplot as plt\n",
    "import librosa.display\n",
    "import numpy as np\n",
    "import string\n",
    "import random\n",
    "\n",
    "\n",
    "def create_spectrogram(clip,sample_rate,save_path):\n",
    "  plt.interactive(False)\n",
    "  fig=plt.figure(figsize=[0.72,0.72])\n",
    "  ax=fig.add_subplot(111)\n",
    "  ax.axes.get_xaxis().set_visible(False)\n",
    "  ax.axes.get_yaxis().set_visible(False)\n",
    "  ax.set_frame_on(False)\n",
    "  S=librosa.feature.melspectrogram(y=clip,sr=sample_rate)\n",
    "  librosa.display.specshow(librosa.power_to_db(S,ref=np.max))\n",
    "  fig.savefig(save_path,dpi=400,bbox_inches='tight',pad_inches=0)\n",
    "  plt.close()\n",
    "  fig.clf()\n",
    "  plt.close(fig)\n",
    "  plt.close('all')\n",
    "  del save_path,clip,sample_rate,fig,ax,S\n",
    "    \n",
    "   \n",
    "def load_img(path):\n",
    "  img=cv2.imread(path)\n",
    "  img=cv2.cvtColor(img,cv2.COLOR_BGR2RGB)\n",
    "  img=cv2.resize(img,(150,150))\n",
    "  return img\n",
    "\n",
    "model=load_model('embdmodel.hdf5')\n",
    "embedding_model=model.layers[2] \n",
    "\n",
    "\n",
    "\n",
    "\n",
    "\n",
    "\n",
    "\n",
    "    \n",
    "\n",
    "    "
   ]
  },
  {
   "cell_type": "code",
   "execution_count": null,
   "metadata": {},
   "outputs": [],
   "source": [
    "model.summary()"
   ]
  },
  {
   "cell_type": "code",
   "execution_count": null,
   "metadata": {},
   "outputs": [],
   "source": [
    "embedding_model=model.layers[2] \n",
    "embedding_model.summary()"
   ]
  },
  {
   "cell_type": "code",
   "execution_count": null,
   "metadata": {},
   "outputs": [],
   "source": [
    "# #Read the songs,divide them into 10s segment,create spectrogram of them\n",
    "\n",
    "# charsets=string.ascii_letters\n",
    "\n",
    "# songspecdict={}\n",
    "\n",
    "# songs_list=os.listdir('./test_songs/')\n",
    "\n",
    "# def get_random_name():\n",
    "#     name=''.join([random.choice(charsets) for _ in range(20)])\n",
    "#     name=name+str(np.random.randint(0,1000))\n",
    "#     return name\n",
    "\n",
    "# for song in songs_list:\n",
    "#     print(song)\n",
    "#     songfile,sr=librosa.load('./test_songs/'+song)\n",
    "#     duration=librosa.get_duration(songfile,sr)\n",
    "#     prev=0\n",
    "#     emblist=[]\n",
    "#     for i in range(1,int((duration//10)+1)):\n",
    "#         if i==int((duration//10)):\n",
    "#             extra=int((int(duration)/10-int(int(duration)/10))*10)\n",
    "#             st=(sr*i*10)-(10-extra)\n",
    "#             end=st+10\n",
    "#             songfrag=np.copy(songfile[st:end])\n",
    "#         else:\n",
    "#             songfrag=np.copy(songfile[prev:(sr*i*10)])\n",
    "#         specname=get_random_name()+'.png'\n",
    "#         create_spectrogram(songfrag,sr,'./Test_Spectrograms/'+specname)\n",
    "#         img_t=load_img('./Test_Spectrograms/'+specname)\n",
    "#         img_t=np.expand_dims(img_t,axis=0)\n",
    "#         emb=embedding_model.predict(img_t)\n",
    "#         emblist.append(emb)\n",
    "        \n",
    "        \n",
    "        \n",
    "#         prev=sr*i*10\n",
    "#     songspecdict[song]=emblist\n",
    "    "
   ]
  },
  {
   "cell_type": "code",
   "execution_count": null,
   "metadata": {},
   "outputs": [],
   "source": [
    "# import pickle\n",
    "\n",
    "# with open('dict.pickle', 'wb') as handle:\n",
    "#     pickle.dump(songspecdict, handle, protocol=pickle.HIGHEST_PROTOCOL)\n"
   ]
  },
  {
   "cell_type": "code",
   "execution_count": null,
   "metadata": {},
   "outputs": [],
   "source": [
    "# import pickle\n",
    "# with open('dict.pickle', 'rb') as handle:\n",
    "#     songspecdict = pickle.load(handle)\n"
   ]
  },
  {
   "cell_type": "code",
   "execution_count": null,
   "metadata": {},
   "outputs": [],
   "source": [
    "song,sr=librosa.load('test_songs/'+'18 The Best Day.m4a')\n",
    "to_match=np.copy(song[0:220500])\n",
    "create_spectrogram(to_match,22050,'test.png')\n",
    "songsdistdict={}\n",
    "\n",
    "to_match_img=load_img('test.png')\n",
    "to_match_img=np.expand_dims(to_match_img,axis=0)\n",
    "\n",
    "to_match_emb=embedding_model.predict(to_match_img)\n",
    "\n",
    "for key,values in songspecdict.items():\n",
    "    dist_array=[]\n",
    "    for embd in values:\n",
    "        dist_array.append(np.linalg.norm(to_match_emb-embd))\n",
    "        \n",
    "    songsdistdict[key]=min(dist_array)\n",
    "\n",
    "song_titles=list(songsdistdict.keys())\n",
    "distances=list(songsdistdict.values())\n",
    "\n",
    "print(f'Recognized Song={song_titles[distances.index(min(distances))]}')\n",
    "\n",
    "    \n",
    "        \n",
    "        \n",
    "\n"
   ]
  }
 ],
 "metadata": {
  "kernelspec": {
   "display_name": "tensorflow15",
   "language": "python",
   "name": "tensorflow15"
  },
  "language_info": {
   "codemirror_mode": {
    "name": "ipython",
    "version": 3
   },
   "file_extension": ".py",
   "mimetype": "text/x-python",
   "name": "python",
   "nbconvert_exporter": "python",
   "pygments_lexer": "ipython3",
   "version": "3.7.0"
  }
 },
 "nbformat": 4,
 "nbformat_minor": 4
}
